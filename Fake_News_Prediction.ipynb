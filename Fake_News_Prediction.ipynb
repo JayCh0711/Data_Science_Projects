{
  "nbformat": 4,
  "nbformat_minor": 0,
  "metadata": {
    "colab": {
      "provenance": [],
      "authorship_tag": "ABX9TyOSsthGnW7pZPJdENLCISoM",
      "include_colab_link": true
    },
    "kernelspec": {
      "name": "python3",
      "display_name": "Python 3"
    },
    "language_info": {
      "name": "python"
    }
  },
  "cells": [
    {
      "cell_type": "markdown",
      "metadata": {
        "id": "view-in-github",
        "colab_type": "text"
      },
      "source": [
        "<a href=\"https://colab.research.google.com/github/JayCh0711/Data_Science_Projects/blob/main/Fake_News_Prediction.ipynb\" target=\"_parent\"><img src=\"https://colab.research.google.com/assets/colab-badge.svg\" alt=\"Open In Colab\"/></a>"
      ]
    },
    {
      "cell_type": "code",
      "execution_count": null,
      "metadata": {
        "id": "o8Hgh5_YxwXj"
      },
      "outputs": [],
      "source": []
    },
    {
      "cell_type": "markdown",
      "source": [
        "importing dependencies"
      ],
      "metadata": {
        "id": "hAWHSDnm2pKS"
      }
    },
    {
      "cell_type": "code",
      "source": [
        "import numpy as np\n",
        "import pandas as pd\n",
        "import re\n",
        "from nltk.corpus import stopwords\n",
        "from nltk.stem.porter import PorterStemmer\n",
        "from sklearn.feature_extraction.text import TfidfVectorizer\n",
        "from sklearn.model_selection import train_test_split\n",
        "from sklearn.linear_model import LogisticRegression\n",
        "from sklearn.metrics import accuracy_score"
      ],
      "metadata": {
        "id": "xel2bGMh2tsA"
      },
      "execution_count": null,
      "outputs": []
    },
    {
      "cell_type": "code",
      "source": [
        "import nltk\n",
        "nltk.download('stopwords')"
      ],
      "metadata": {
        "colab": {
          "base_uri": "https://localhost:8080/"
        },
        "id": "QFfTysqq3KeV",
        "outputId": "7e5c8e0c-de84-450f-f78c-a3a24160cd26"
      },
      "execution_count": null,
      "outputs": [
        {
          "output_type": "stream",
          "name": "stderr",
          "text": [
            "[nltk_data] Downloading package stopwords to /root/nltk_data...\n",
            "[nltk_data]   Package stopwords is already up-to-date!\n"
          ]
        },
        {
          "output_type": "execute_result",
          "data": {
            "text/plain": [
              "True"
            ]
          },
          "metadata": {},
          "execution_count": 8
        }
      ]
    },
    {
      "cell_type": "code",
      "source": [
        "print(stopwords.words('english'))"
      ],
      "metadata": {
        "colab": {
          "base_uri": "https://localhost:8080/"
        },
        "id": "EiHmzcSw3vpd",
        "outputId": "f596869e-da41-457c-8397-7cb0bcfbf544"
      },
      "execution_count": null,
      "outputs": [
        {
          "output_type": "stream",
          "name": "stdout",
          "text": [
            "['i', 'me', 'my', 'myself', 'we', 'our', 'ours', 'ourselves', 'you', \"you're\", \"you've\", \"you'll\", \"you'd\", 'your', 'yours', 'yourself', 'yourselves', 'he', 'him', 'his', 'himself', 'she', \"she's\", 'her', 'hers', 'herself', 'it', \"it's\", 'its', 'itself', 'they', 'them', 'their', 'theirs', 'themselves', 'what', 'which', 'who', 'whom', 'this', 'that', \"that'll\", 'these', 'those', 'am', 'is', 'are', 'was', 'were', 'be', 'been', 'being', 'have', 'has', 'had', 'having', 'do', 'does', 'did', 'doing', 'a', 'an', 'the', 'and', 'but', 'if', 'or', 'because', 'as', 'until', 'while', 'of', 'at', 'by', 'for', 'with', 'about', 'against', 'between', 'into', 'through', 'during', 'before', 'after', 'above', 'below', 'to', 'from', 'up', 'down', 'in', 'out', 'on', 'off', 'over', 'under', 'again', 'further', 'then', 'once', 'here', 'there', 'when', 'where', 'why', 'how', 'all', 'any', 'both', 'each', 'few', 'more', 'most', 'other', 'some', 'such', 'no', 'nor', 'not', 'only', 'own', 'same', 'so', 'than', 'too', 'very', 's', 't', 'can', 'will', 'just', 'don', \"don't\", 'should', \"should've\", 'now', 'd', 'll', 'm', 'o', 're', 've', 'y', 'ain', 'aren', \"aren't\", 'couldn', \"couldn't\", 'didn', \"didn't\", 'doesn', \"doesn't\", 'hadn', \"hadn't\", 'hasn', \"hasn't\", 'haven', \"haven't\", 'isn', \"isn't\", 'ma', 'mightn', \"mightn't\", 'mustn', \"mustn't\", 'needn', \"needn't\", 'shan', \"shan't\", 'shouldn', \"shouldn't\", 'wasn', \"wasn't\", 'weren', \"weren't\", 'won', \"won't\", 'wouldn', \"wouldn't\"]\n"
          ]
        }
      ]
    },
    {
      "cell_type": "markdown",
      "source": [
        "Data Collection and Preprocessing"
      ],
      "metadata": {
        "id": "-B-B2W5D37PC"
      }
    },
    {
      "cell_type": "code",
      "source": [
        "fake_news_dataset = pd.read_csv('/content/_train.csv')"
      ],
      "metadata": {
        "id": "nLaYD8QG3yDt"
      },
      "execution_count": null,
      "outputs": []
    },
    {
      "cell_type": "code",
      "source": [
        "fake_news_dataset.shape"
      ],
      "metadata": {
        "colab": {
          "base_uri": "https://localhost:8080/"
        },
        "id": "Y6fYGnaL4FOf",
        "outputId": "46547633-c8d8-434f-8c0c-5865ee5a9e61"
      },
      "execution_count": null,
      "outputs": [
        {
          "output_type": "execute_result",
          "data": {
            "text/plain": [
              "(16646, 1)"
            ]
          },
          "metadata": {},
          "execution_count": 11
        }
      ]
    },
    {
      "cell_type": "code",
      "source": [
        "fake_news_dataset.head()"
      ],
      "metadata": {
        "colab": {
          "base_uri": "https://localhost:8080/",
          "height": 206
        },
        "id": "dAb2TX2a4MGr",
        "outputId": "d5749380-f1f0-449f-99d6-56f1bf5276a4"
      },
      "execution_count": null,
      "outputs": [
        {
          "output_type": "execute_result",
          "data": {
            "text/plain": [
              "                                          text;label\n",
              "0  dark agenda behind globalism open border altma...\n",
              "1  america poor still get shaft sami jamil jadall...\n",
              "2  number accuser grow former miss finland accuse...\n",
              "3  heroic prego advertisement replaces refresh we...\n",
              "4  russia syria debbie reynolds thursday even bri..."
            ],
            "text/html": [
              "\n",
              "  <div id=\"df-cd3f1cab-2136-4f6b-a7c6-daec0831a7db\" class=\"colab-df-container\">\n",
              "    <div>\n",
              "<style scoped>\n",
              "    .dataframe tbody tr th:only-of-type {\n",
              "        vertical-align: middle;\n",
              "    }\n",
              "\n",
              "    .dataframe tbody tr th {\n",
              "        vertical-align: top;\n",
              "    }\n",
              "\n",
              "    .dataframe thead th {\n",
              "        text-align: right;\n",
              "    }\n",
              "</style>\n",
              "<table border=\"1\" class=\"dataframe\">\n",
              "  <thead>\n",
              "    <tr style=\"text-align: right;\">\n",
              "      <th></th>\n",
              "      <th>text;label</th>\n",
              "    </tr>\n",
              "  </thead>\n",
              "  <tbody>\n",
              "    <tr>\n",
              "      <th>0</th>\n",
              "      <td>dark agenda behind globalism open border altma...</td>\n",
              "    </tr>\n",
              "    <tr>\n",
              "      <th>1</th>\n",
              "      <td>america poor still get shaft sami jamil jadall...</td>\n",
              "    </tr>\n",
              "    <tr>\n",
              "      <th>2</th>\n",
              "      <td>number accuser grow former miss finland accuse...</td>\n",
              "    </tr>\n",
              "    <tr>\n",
              "      <th>3</th>\n",
              "      <td>heroic prego advertisement replaces refresh we...</td>\n",
              "    </tr>\n",
              "    <tr>\n",
              "      <th>4</th>\n",
              "      <td>russia syria debbie reynolds thursday even bri...</td>\n",
              "    </tr>\n",
              "  </tbody>\n",
              "</table>\n",
              "</div>\n",
              "    <div class=\"colab-df-buttons\">\n",
              "\n",
              "  <div class=\"colab-df-container\">\n",
              "    <button class=\"colab-df-convert\" onclick=\"convertToInteractive('df-cd3f1cab-2136-4f6b-a7c6-daec0831a7db')\"\n",
              "            title=\"Convert this dataframe to an interactive table.\"\n",
              "            style=\"display:none;\">\n",
              "\n",
              "  <svg xmlns=\"http://www.w3.org/2000/svg\" height=\"24px\" viewBox=\"0 -960 960 960\">\n",
              "    <path d=\"M120-120v-720h720v720H120Zm60-500h600v-160H180v160Zm220 220h160v-160H400v160Zm0 220h160v-160H400v160ZM180-400h160v-160H180v160Zm440 0h160v-160H620v160ZM180-180h160v-160H180v160Zm440 0h160v-160H620v160Z\"/>\n",
              "  </svg>\n",
              "    </button>\n",
              "\n",
              "  <style>\n",
              "    .colab-df-container {\n",
              "      display:flex;\n",
              "      gap: 12px;\n",
              "    }\n",
              "\n",
              "    .colab-df-convert {\n",
              "      background-color: #E8F0FE;\n",
              "      border: none;\n",
              "      border-radius: 50%;\n",
              "      cursor: pointer;\n",
              "      display: none;\n",
              "      fill: #1967D2;\n",
              "      height: 32px;\n",
              "      padding: 0 0 0 0;\n",
              "      width: 32px;\n",
              "    }\n",
              "\n",
              "    .colab-df-convert:hover {\n",
              "      background-color: #E2EBFA;\n",
              "      box-shadow: 0px 1px 2px rgba(60, 64, 67, 0.3), 0px 1px 3px 1px rgba(60, 64, 67, 0.15);\n",
              "      fill: #174EA6;\n",
              "    }\n",
              "\n",
              "    .colab-df-buttons div {\n",
              "      margin-bottom: 4px;\n",
              "    }\n",
              "\n",
              "    [theme=dark] .colab-df-convert {\n",
              "      background-color: #3B4455;\n",
              "      fill: #D2E3FC;\n",
              "    }\n",
              "\n",
              "    [theme=dark] .colab-df-convert:hover {\n",
              "      background-color: #434B5C;\n",
              "      box-shadow: 0px 1px 3px 1px rgba(0, 0, 0, 0.15);\n",
              "      filter: drop-shadow(0px 1px 2px rgba(0, 0, 0, 0.3));\n",
              "      fill: #FFFFFF;\n",
              "    }\n",
              "  </style>\n",
              "\n",
              "    <script>\n",
              "      const buttonEl =\n",
              "        document.querySelector('#df-cd3f1cab-2136-4f6b-a7c6-daec0831a7db button.colab-df-convert');\n",
              "      buttonEl.style.display =\n",
              "        google.colab.kernel.accessAllowed ? 'block' : 'none';\n",
              "\n",
              "      async function convertToInteractive(key) {\n",
              "        const element = document.querySelector('#df-cd3f1cab-2136-4f6b-a7c6-daec0831a7db');\n",
              "        const dataTable =\n",
              "          await google.colab.kernel.invokeFunction('convertToInteractive',\n",
              "                                                    [key], {});\n",
              "        if (!dataTable) return;\n",
              "\n",
              "        const docLinkHtml = 'Like what you see? Visit the ' +\n",
              "          '<a target=\"_blank\" href=https://colab.research.google.com/notebooks/data_table.ipynb>data table notebook</a>'\n",
              "          + ' to learn more about interactive tables.';\n",
              "        element.innerHTML = '';\n",
              "        dataTable['output_type'] = 'display_data';\n",
              "        await google.colab.output.renderOutput(dataTable, element);\n",
              "        const docLink = document.createElement('div');\n",
              "        docLink.innerHTML = docLinkHtml;\n",
              "        element.appendChild(docLink);\n",
              "      }\n",
              "    </script>\n",
              "  </div>\n",
              "\n",
              "\n",
              "<div id=\"df-cf6bbf1f-59fd-460d-8128-e8d3892e0e46\">\n",
              "  <button class=\"colab-df-quickchart\" onclick=\"quickchart('df-cf6bbf1f-59fd-460d-8128-e8d3892e0e46')\"\n",
              "            title=\"Suggest charts\"\n",
              "            style=\"display:none;\">\n",
              "\n",
              "<svg xmlns=\"http://www.w3.org/2000/svg\" height=\"24px\"viewBox=\"0 0 24 24\"\n",
              "     width=\"24px\">\n",
              "    <g>\n",
              "        <path d=\"M19 3H5c-1.1 0-2 .9-2 2v14c0 1.1.9 2 2 2h14c1.1 0 2-.9 2-2V5c0-1.1-.9-2-2-2zM9 17H7v-7h2v7zm4 0h-2V7h2v10zm4 0h-2v-4h2v4z\"/>\n",
              "    </g>\n",
              "</svg>\n",
              "  </button>\n",
              "\n",
              "<style>\n",
              "  .colab-df-quickchart {\n",
              "      --bg-color: #E8F0FE;\n",
              "      --fill-color: #1967D2;\n",
              "      --hover-bg-color: #E2EBFA;\n",
              "      --hover-fill-color: #174EA6;\n",
              "      --disabled-fill-color: #AAA;\n",
              "      --disabled-bg-color: #DDD;\n",
              "  }\n",
              "\n",
              "  [theme=dark] .colab-df-quickchart {\n",
              "      --bg-color: #3B4455;\n",
              "      --fill-color: #D2E3FC;\n",
              "      --hover-bg-color: #434B5C;\n",
              "      --hover-fill-color: #FFFFFF;\n",
              "      --disabled-bg-color: #3B4455;\n",
              "      --disabled-fill-color: #666;\n",
              "  }\n",
              "\n",
              "  .colab-df-quickchart {\n",
              "    background-color: var(--bg-color);\n",
              "    border: none;\n",
              "    border-radius: 50%;\n",
              "    cursor: pointer;\n",
              "    display: none;\n",
              "    fill: var(--fill-color);\n",
              "    height: 32px;\n",
              "    padding: 0;\n",
              "    width: 32px;\n",
              "  }\n",
              "\n",
              "  .colab-df-quickchart:hover {\n",
              "    background-color: var(--hover-bg-color);\n",
              "    box-shadow: 0 1px 2px rgba(60, 64, 67, 0.3), 0 1px 3px 1px rgba(60, 64, 67, 0.15);\n",
              "    fill: var(--button-hover-fill-color);\n",
              "  }\n",
              "\n",
              "  .colab-df-quickchart-complete:disabled,\n",
              "  .colab-df-quickchart-complete:disabled:hover {\n",
              "    background-color: var(--disabled-bg-color);\n",
              "    fill: var(--disabled-fill-color);\n",
              "    box-shadow: none;\n",
              "  }\n",
              "\n",
              "  .colab-df-spinner {\n",
              "    border: 2px solid var(--fill-color);\n",
              "    border-color: transparent;\n",
              "    border-bottom-color: var(--fill-color);\n",
              "    animation:\n",
              "      spin 1s steps(1) infinite;\n",
              "  }\n",
              "\n",
              "  @keyframes spin {\n",
              "    0% {\n",
              "      border-color: transparent;\n",
              "      border-bottom-color: var(--fill-color);\n",
              "      border-left-color: var(--fill-color);\n",
              "    }\n",
              "    20% {\n",
              "      border-color: transparent;\n",
              "      border-left-color: var(--fill-color);\n",
              "      border-top-color: var(--fill-color);\n",
              "    }\n",
              "    30% {\n",
              "      border-color: transparent;\n",
              "      border-left-color: var(--fill-color);\n",
              "      border-top-color: var(--fill-color);\n",
              "      border-right-color: var(--fill-color);\n",
              "    }\n",
              "    40% {\n",
              "      border-color: transparent;\n",
              "      border-right-color: var(--fill-color);\n",
              "      border-top-color: var(--fill-color);\n",
              "    }\n",
              "    60% {\n",
              "      border-color: transparent;\n",
              "      border-right-color: var(--fill-color);\n",
              "    }\n",
              "    80% {\n",
              "      border-color: transparent;\n",
              "      border-right-color: var(--fill-color);\n",
              "      border-bottom-color: var(--fill-color);\n",
              "    }\n",
              "    90% {\n",
              "      border-color: transparent;\n",
              "      border-bottom-color: var(--fill-color);\n",
              "    }\n",
              "  }\n",
              "</style>\n",
              "\n",
              "  <script>\n",
              "    async function quickchart(key) {\n",
              "      const quickchartButtonEl =\n",
              "        document.querySelector('#' + key + ' button');\n",
              "      quickchartButtonEl.disabled = true;  // To prevent multiple clicks.\n",
              "      quickchartButtonEl.classList.add('colab-df-spinner');\n",
              "      try {\n",
              "        const charts = await google.colab.kernel.invokeFunction(\n",
              "            'suggestCharts', [key], {});\n",
              "      } catch (error) {\n",
              "        console.error('Error during call to suggestCharts:', error);\n",
              "      }\n",
              "      quickchartButtonEl.classList.remove('colab-df-spinner');\n",
              "      quickchartButtonEl.classList.add('colab-df-quickchart-complete');\n",
              "    }\n",
              "    (() => {\n",
              "      let quickchartButtonEl =\n",
              "        document.querySelector('#df-cf6bbf1f-59fd-460d-8128-e8d3892e0e46 button');\n",
              "      quickchartButtonEl.style.display =\n",
              "        google.colab.kernel.accessAllowed ? 'block' : 'none';\n",
              "    })();\n",
              "  </script>\n",
              "</div>\n",
              "\n",
              "    </div>\n",
              "  </div>\n"
            ],
            "application/vnd.google.colaboratory.intrinsic+json": {
              "type": "dataframe",
              "variable_name": "fake_news_dataset",
              "summary": "{\n  \"name\": \"fake_news_dataset\",\n  \"rows\": 16646,\n  \"fields\": [\n    {\n      \"column\": \"text;label\",\n      \"properties\": {\n        \"dtype\": \"string\",\n        \"num_unique_values\": 16475,\n        \"samples\": [\n          \"trump hometown clear message defiance woman new york time new yorkers flood street manhattan saturday aim send message president trump hometown would center resistance administration mayor office estimate people take part march concert woman march rally across country huge crowd along fifth avenue near trump tower large slice manhattan come standstill much day participant boo mr trump hoist sign mock hair relationship president vladimir v putin russia moment catharsis camaraderie city part shock disappointed mr trump ascendance presidency hold nasty woman sign grace huezo buoy huge turnout joyful mood hopeful see many people give keep spirit say go stick together next four year ms huezo student hunter college say marching sister defend woman right say appalled recording mr trump lewd comment woman emerge campaign say people permission grab woman without permission say march begin rally near trump world tower east side chirlane mccray wife mayor bill de blasio lead crowd urge mr trump get rid affordable care act new york city always center progressive america never change say actress whoopi goldberg suggest would first many march mr trump office hint debate diversity lead march one speaker say wanted equal pay white woman throughout day marcher clog city street overwhelm subway station men woman wear pink pussy hat hold sign read lose donald still around p near trump tower wall police officer try keep people move protester chant black life matter alice bucaille say wanted bring two daughter march decide violence friday inauguration ceremony washington m bucaille say would welcome woman view differ abortion add democrat could longer live bubble need open discussion understand people come say inclusive part conversation plenty child attend march parent grandparent along route annabel lui stand bench proudly hold sign say little donald bad boy go room next four year stop watch chant trump go;1\",\n          \"uber suspends test selfdriving vehicle arizona crash new york time uber say saturday suspend testing vehicle day one vehicle involve collision tempe ariz uber vehicle person driver seat mode fault accident accord josie montenegro tempe police department spokeswoman uber volvo xc sport utility vehicle hit driver another car fail yield say collision cause uber vehicle roll onto side m montenegro uber spokeswoman chelsea kohler confirm accident friday evening say neither driver suffer serious injury continue look incident confirm passenger vehicle m kohler say statement m kohler say saturday uber suspend test vehicle arizona pending result investigation accident say uber also suspend test pittsburgh san francisco day possibly longer news accident first report arizona affiliate station incident come difficult time uber last two month field multiple crisis involve company workplace culture business practice earlier march new york time report existence tool call greyball uber engineer use skirt authority crack uber driver worldwide addition travis kalanick uber chief executive force apologize aggressive behavior bloomberg publish video verbal altercation uber driver although uber fault arizona accident incident problematic company base san francisco go regulator try persuade city allow public test autonomous vehicle google general motor ford motor company test autonomous vehicle california register successful introduction autonomous vehicle program pittsburgh last year uber run obstacle december tried begin test vehicle san francisco without register permit permit require company disclose number accident vehicle involve shortly san francisco test begin one uber car fail recognize stoplight sail crosswalk car driving time accord internal document review time california department motor vehicle revoke registration uber car company take vehicle arizona test governor require company seek autonomous test permit google long tested vehicle california also number accident year typically accidents fault driver auto company work technology face difficulty build smart vehicle must adhere rule road must also account nature human driver far difficult variable;1\",\n          \"donald trump tell uk make kate bush new queen tuesday november matt ward donald trump tell britain make kate bush new queen kate bush would make great queen united kingdom donald trump suggest presidentelect declare yearold singer perfect candidate watch video hit babooshka youtube sure many people would like see monarch told reporter tweet middle night video look equally good skintight catsuit chainmail bikini many woman pull ok kind work plus elizabeth old hundred nine people would see kate bush serious upgrade recap stun look great choice bikini british face tick box later tweet thought pope pope woman get best newsthump story mailbox every friday free currently;0\"\n        ],\n        \"semantic_type\": \"\",\n        \"description\": \"\"\n      }\n    }\n  ]\n}"
            }
          },
          "metadata": {},
          "execution_count": 12
        }
      ]
    },
    {
      "cell_type": "code",
      "source": [
        "#counting the missing value\n",
        "fake_news_dataset.isnull().sum()"
      ],
      "metadata": {
        "colab": {
          "base_uri": "https://localhost:8080/",
          "height": 115
        },
        "id": "ooWUtyZU4TX3",
        "outputId": "49acf466-0dc8-4064-a12f-70bf7dc1a437"
      },
      "execution_count": null,
      "outputs": [
        {
          "output_type": "execute_result",
          "data": {
            "text/plain": [
              "text;label    0\n",
              "dtype: int64"
            ],
            "text/html": [
              "<div>\n",
              "<style scoped>\n",
              "    .dataframe tbody tr th:only-of-type {\n",
              "        vertical-align: middle;\n",
              "    }\n",
              "\n",
              "    .dataframe tbody tr th {\n",
              "        vertical-align: top;\n",
              "    }\n",
              "\n",
              "    .dataframe thead th {\n",
              "        text-align: right;\n",
              "    }\n",
              "</style>\n",
              "<table border=\"1\" class=\"dataframe\">\n",
              "  <thead>\n",
              "    <tr style=\"text-align: right;\">\n",
              "      <th></th>\n",
              "      <th>0</th>\n",
              "    </tr>\n",
              "  </thead>\n",
              "  <tbody>\n",
              "    <tr>\n",
              "      <th>text;label</th>\n",
              "      <td>0</td>\n",
              "    </tr>\n",
              "  </tbody>\n",
              "</table>\n",
              "</div><br><label><b>dtype:</b> int64</label>"
            ]
          },
          "metadata": {},
          "execution_count": 13
        }
      ]
    },
    {
      "cell_type": "code",
      "source": [
        "#replacing null values with empty string | there are no missing values but for practice i am doing this\n",
        "fake_news_dataset = fake_news_dataset.fillna('')"
      ],
      "metadata": {
        "id": "tsopDvyB4jh1"
      },
      "execution_count": null,
      "outputs": []
    },
    {
      "cell_type": "code",
      "source": [
        "#Merging the columns\n",
        "fake_news_dataset['content'] = fake_news_dataset['text;label']\n",
        "print(fake_news_dataset['content'])"
      ],
      "metadata": {
        "colab": {
          "base_uri": "https://localhost:8080/"
        },
        "id": "rDzgz68G9Ofb",
        "outputId": "e664b499-3eb3-47fa-cabb-65cd1d885a5d"
      },
      "execution_count": null,
      "outputs": [
        {
          "output_type": "stream",
          "name": "stdout",
          "text": [
            "0        dark agenda behind globalism open border altma...\n",
            "1        america poor still get shaft sami jamil jadall...\n",
            "2        number accuser grow former miss finland accuse...\n",
            "3        heroic prego advertisement replaces refresh we...\n",
            "4        russia syria debbie reynolds thursday even bri...\n",
            "                               ...                        \n",
            "16641    comment cost selfdriving taxi really sixtyseve...\n",
            "16642    interest duterte get billion china get money j...\n",
            "16643    forget encyclopaedia get pokiespedia home win ...\n",
            "16644    u election race huma abedin connection minute ...\n",
            "16645    shameful obama legacy white man beat viciously...\n",
            "Name: content, Length: 16646, dtype: object\n"
          ]
        }
      ]
    },
    {
      "cell_type": "code",
      "source": [
        "#Separating the data and label\n",
        "X = fake_news_dataset.drop(columns='text;label', axis=1)\n",
        "Y = fake_news_dataset['text;label']"
      ],
      "metadata": {
        "id": "JwOquQnd5s-o"
      },
      "execution_count": null,
      "outputs": []
    },
    {
      "cell_type": "code",
      "source": [
        "print(X)\n",
        "print(Y)"
      ],
      "metadata": {
        "colab": {
          "base_uri": "https://localhost:8080/"
        },
        "id": "MPNQ7P3k63KO",
        "outputId": "0836d066-f42e-4b06-efc1-4cef647d0812"
      },
      "execution_count": null,
      "outputs": [
        {
          "output_type": "stream",
          "name": "stdout",
          "text": [
            "                                                 content\n",
            "0      dark agenda behind globalism open border altma...\n",
            "1      america poor still get shaft sami jamil jadall...\n",
            "2      number accuser grow former miss finland accuse...\n",
            "3      heroic prego advertisement replaces refresh we...\n",
            "4      russia syria debbie reynolds thursday even bri...\n",
            "...                                                  ...\n",
            "16641  comment cost selfdriving taxi really sixtyseve...\n",
            "16642  interest duterte get billion china get money j...\n",
            "16643  forget encyclopaedia get pokiespedia home win ...\n",
            "16644  u election race huma abedin connection minute ...\n",
            "16645  shameful obama legacy white man beat viciously...\n",
            "\n",
            "[16646 rows x 1 columns]\n",
            "0        dark agenda behind globalism open border altma...\n",
            "1        america poor still get shaft sami jamil jadall...\n",
            "2        number accuser grow former miss finland accuse...\n",
            "3        heroic prego advertisement replaces refresh we...\n",
            "4        russia syria debbie reynolds thursday even bri...\n",
            "                               ...                        \n",
            "16641    comment cost selfdriving taxi really sixtyseve...\n",
            "16642    interest duterte get billion china get money j...\n",
            "16643    forget encyclopaedia get pokiespedia home win ...\n",
            "16644    u election race huma abedin connection minute ...\n",
            "16645    shameful obama legacy white man beat viciously...\n",
            "Name: text;label, Length: 16646, dtype: object\n"
          ]
        }
      ]
    },
    {
      "cell_type": "markdown",
      "source": [
        "Stemming :\n",
        "Process of reducing a word to it's root word\n",
        "\n",
        "Examples; actor, actress, acting --> act"
      ],
      "metadata": {
        "id": "DpUHAGIu7mdq"
      }
    },
    {
      "cell_type": "code",
      "source": [
        "port_stem = PorterStemmer()"
      ],
      "metadata": {
        "id": "isnLVqDP7d8T"
      },
      "execution_count": null,
      "outputs": []
    },
    {
      "cell_type": "code",
      "source": [
        "def stemming(content):\n",
        "  stemmed_content = re.sub('[^a-zA-Z]',' ',content)\n",
        "  stemmed_content = stemmed_content.lower()\n",
        "  stemmed_content = stemmed_content.split()\n",
        "  stemmed_content = [port_stem.stem(word) for word in stemmed_content if not word in stopwords.words('english')]\n",
        "  stemmed_content = ' '.join(stemmed_content)\n",
        "  return stemmed_content\n"
      ],
      "metadata": {
        "id": "Id7x8Viu7-5r"
      },
      "execution_count": null,
      "outputs": []
    },
    {
      "cell_type": "code",
      "source": [
        "fake_news_dataset['content'] = fake_news_dataset['content'].apply(stemming)"
      ],
      "metadata": {
        "id": "rCElJSUN9yVU"
      },
      "execution_count": null,
      "outputs": []
    },
    {
      "cell_type": "code",
      "source": [
        "print(fake_news_dataset['content'])"
      ],
      "metadata": {
        "colab": {
          "base_uri": "https://localhost:8080/"
        },
        "id": "Arj7ruQ0-BGW",
        "outputId": "727e95d6-d87c-4fa6-e76e-e261b5a82c2a"
      },
      "execution_count": null,
      "outputs": [
        {
          "output_type": "stream",
          "name": "stdout",
          "text": [
            "0        dark agenda behind global open border altmarke...\n",
            "1        america poor still get shaft sami jamil jadall...\n",
            "2        number accus grow former miss finland accus tr...\n",
            "3        heroic prego advertis replac refresh webpag pr...\n",
            "4        russia syria debbi reynold thursday even brief...\n",
            "                               ...                        \n",
            "16641    comment cost selfdriv taxi realli sixtyseven c...\n",
            "16642    interest dutert get billion china get money ja...\n",
            "16643    forget encyclopaedia get pokiespedia home win ...\n",
            "16644    u elect race huma abedin connect minut video n...\n",
            "16645    shame obama legaci white man beat vicious vote...\n",
            "Name: content, Length: 16646, dtype: object\n"
          ]
        }
      ]
    },
    {
      "cell_type": "code",
      "source": [
        "#Separating the data and label\n",
        "X = fake_news_dataset['content'].values\n",
        "Y = fake_news_dataset['text;label'].values"
      ],
      "metadata": {
        "id": "xyHTMIaa_aVT"
      },
      "execution_count": null,
      "outputs": []
    },
    {
      "cell_type": "code",
      "source": [
        "print(X)\n",
        "print(Y)"
      ],
      "metadata": {
        "colab": {
          "base_uri": "https://localhost:8080/"
        },
        "id": "w34l1hQm_j9M",
        "outputId": "4bbcee79-14cf-42c5-a15f-f6754c230ceb"
      },
      "execution_count": null,
      "outputs": [
        {
          "output_type": "stream",
          "name": "stdout",
          "text": [
            "['dark agenda behind global open border altmarket brandon smith peopl unfamiliar liberti movement stumbl onto undeni fact conspiraci global tend look easi answer understand exist peopl today condit perceiv event misinterpret standpoint occam razor wrongli assum simpl explan probabl right one fact occam razor state instead summar state simpl explan give evid hand probabl right explan well know document decad push global deliber focu effort part select elit intern financi central banker polit leader numer member exclus think tank often openli admit goal total global public perhap believ uneduc common would never read anyway carrol quigley mentor bill clinton member council foreign relat often quot open admiss gener scheme power financi capit farreach aim noth less creat world system financi control privat hand abl domin polit system countri economi world whole system control feudalist fashion central bank world act concert secret agreement arriv frequent meet confer apex system bank intern settlement basel switzerland privat bank control world central bank privat corpor central bank seek domin govern abil control treasuri loan manipul foreign exchang influenc level econom activ countri influenc cooper politician subsequ econom reward busi world carrol quigley tragedi hope peopl behind effort enforc global tie togeth particular ideolog perhap even cultlik religion envis world order describ plato republ believ choos either fate destini genet rule philosoph king rest u believ wise capabl human offer evolutionari mean creat chao order thin air mold societi mental evid system build exploit exampl central bank gener noth mechan drive nation debt currenc devalu ultim enslav widespread econom extort end game central bank believ trigger histor financi crisi use elit leverag promot complet global central viabl solut process destabil economi societi direct head variou central bank instead direct even central global institut like intern monetari fund bank intern settlement outlin reveal mainstream articl like rule world money publish harper magazin also find word globalist campaign new world order mean voluntari struggl seem drift definit toward world social democraci may still great delay disappoint becom effici benefic world system countless peopl hate new world order die protest attempt evalu promis bear mind distress gener malcont mani quit gallant gracefullook peopl hg well fabian socialist author new world order short hous world order build bottom rather f rom top look like great boom buzz confus use william jame famou descript realiti end run around nation sovereignti erod piec piec accomplish much oldfashion frontal assault richard gardner member trilater commiss publish april issu foreign affair new world order happen without u particip singl signific compon ye new world order forc unit state chang percept henri kissing world action council april could quot globalist day long think get gener idea peopl see global natur offshoot free market inevit outcom econom progress realiti simpl explan give evid hand global outright war wag ideal sovereign peopl nation guerrilla war fourth gener warfar wag small group elit rest u signific element war concern natur border border nation state even town villag line map invis barrier dirt elit mainstream medium would like u believ instead border appli correctli repres principl least suppos function human natur commun builder constantli seek other likemind likepurpos understand subconsci group individu work togeth often alway accomplish say human also natur tendenc valu individu freedom right voluntari associ like forc associ peopl group hold similar valu cultur erect border frankli peopl right vet wish join particip endeavor peopl also right discrimin anyon share core valu word right refus associ group ideolog destruct interestingli globalist mouthpiec argu refus associ might undermin valu violat right see work globalist exploit word isolation shame sovereignti champion eye public shame isol principl freedom speech express right self defens line also noth wrong isol prosper econom model unsuccess econom model forc decentr free market economi adopt feudal administr central bank govern eventu destroy model forc free market economi fiscal interdependencey socialist economi also like undermin cultur import million peopl differ valu fee nation social thrust upon recip collaps point valu social structur mutual exclus matter hard tri certain cultur never homogen cultur elimin one cultur make room borderless world globalist seek achiev great purpos behind open border polici global annihil ideolog competit human think option elitist religion ultim end game globalist control govern govern noth tool rather end game obtain total psycholog influenc eventu consent mass varieti choic remov environ order global work nice way say mani peopl die mani principl eras public conscious elit assert concept singl world cultur pinnacl principl mankind longer need border principl superior long border concept continu exist alway chanc separ differ ideal rise compet globalist philosophi unaccept elit lead subtl propaganda meme cultur valu sovereignti global somehow seeth cauldron potenti evil today rise tide antiglobalist movement argument mainstream populist conserv low uneduc class danger element set toppl peac prosper afford globalist hand word treat like child scrawl finger paint across fine craft mona lisa carrol quigley promot predict propaganda decad advanc discu need work within system chang instead fight exampl talk low middl class backbon fascism futur think may happen parti member nazi parti germani consist low middl class think rightw movement countri pretti gener group carrol quigley dissent need problem peopl refus confront fruit global observ far globalist free reign world govern least centuri long consequ influenc two world war great depress great recess still ongo mani region conflict genocid count systemat oppress free agent entrepreneur inventor idea point suffer social financi stagnat globalist long power yet exist border blame storm crisi endur past hundr year liberti champion call deplor populist fascist globalist dodg blame like slimi slither eel best card globalist sleev reason continu argu plan allow conserv movement gain measur polit power next year pull plug intern fiscal life support blame u result tragedi modicum evid support notion global interdependencey central actual work one need examin econom immigr nightmar present eu understand globalist argu world actual central enough right claim need global less solv world ailment meantim principl sovereignti histor demon concept separ cultur build separ belief psycholog equat evil futur gener otherwis globalist never abl success establish global system without border imagin moment era far away principl sovereignti consid abhorr racist violent poison individu would sham even punish collect entertain notion imagin world sovereignti conservat hold next gener new origin sin danger idea almost bring extinct man mental prison globalist want take u break free would requir complet revers way particip societi mean need rebellion voluntari associ push decentr instead global thousand upon thousand voluntari group focu local self relianc true product must act build system base redund instead fragil interdependencey need go back age mani border less border everi individu free particip whatev social group endeavor believ best well free defend peopl seek sabotag voluntari tribal societi devoid forc associ cours effort would requir unimagin sacrific fight would probabl last gener suggest otherwis would lie possibl convinc anyon potenti futur base hypothet model worth sacrific idea whether point globalist domin world live today clearli doom argu come next remov head guillotin'\n",
            " 'america poor still get shaft sami jamil jadallah novemb day ugli distast presidenti elect u histori see candid presid u presid elect grope email make u laugh stock world saw campaign littl anyth prioriti realli matter american peopl candid talk bring back job industri manufactur job know well liar never bring back kind industri manufactur job give middleclass american sens digniti secur two candid best cater rich power peopl money billionair alway shape nation agenda polit billion pour year nation elect differ previou nationalpresidenti elect close billion inject invest elect return donor never voter america poor black hispan white well neglect long time get shaft everywher everyon especi congress empow corpor america screw poor everi turn everi way congress legisl give incent corpor locat manufactur job oversea allow bank financi institut especi credit card compani give shaft poor futur hold next gener surpris great countri stagger number poor million popul prospect american part categori least one year age year poor unemploy live system million poor work hard hard one two job make end meet hispan black like among categori asian white woman like men fall categori work poor white male less high school educ spend least one year categori hard think countri plenti million peopl earn less year million deep poverti earn less year presidenti candid cater rich power seek support candid talk poorpay job american avail job pay less annual talk bank financi institut loot ten million american pension fund financi crisi fact congress allow corpor restructur benefit wall street investor cheat worker pension health care cours republican talk elimin entitl poor forget neglect kind entitl u militari get kind entitl corpor rich execut get part deal work member congress entitl tripl hardwork poor american get true famili get cash assist black hispan lead believ thu caus outcri end welfar system note entitl go elderli poor retir worker social secur medicar amount billion let u look system sponsor nurtur congress screw american everi day let u take exampl interest rate charg credit card case poor one get behind credit card payment interest rate charg almost twice much averag rate moreov one get behind one payment one credit card credit card compani hike rate thu poor pay high price cost highinterest rate charg likelihood default one payment credit rate chang forc poor pay high interest car loan mortgag loan truli rip fact compani like payday loan car titl compani consid bank receiv fund less charg borrow even unconscion poor also get shaft health care compani especi supplement insur fact poor like suffer certain chronic diseas obes high blood pressur diabet rate much high averag add way school fund sinc nation tax plan fund educ fund come properti tax poor neighborhood incom support school system polic fire depart much less affluent commun child get less qualiti educ like among poor live govern subsidi like neighborhood high crime rate higher percentag incarcer govern save support educ pay doubl cost crime incarcer simpli make sens societi leav two incid person experi supplement health insur mean u age must purchas supplement health insur complement medicar purchas polici unitedhealth aarp pay month almost year discov ceo unitedhealth earn year salari make simpl calcul shock realiz pay year monthli premium pay salari one year cours drop unitedhealth exploit disadvantag commun privat compani offer auto dealer smart loyalti card dealer add card special packag oil chang discount mainten extend warranti consum benefit abl keep track vehicl servic mainten record smart chip card patent thu save car owner get rip duplic unwarr repair mani dealer especi poor neighborhood charg poor interest rate exceed car loan forc poor guy buy addit warranti charg thousand dollar servic dealer know custom would never need drop dealer network know mayb one day congress presidenti candid repres rich poor middl class offer solut get peopl work welfar subsidi american peopl lazi need opportun trump clinton bring opportun america problem presid congress chang must take place'\n",
            " 'number accus grow former miss finland accus trump sexual assault sarah jone thu oct th pm th woman come forward accus donald trump brag billi bush bu tape stori sound familiar former miss finland ninni laaksonen tell tabloid iltasanomat trump grab butt share twitter print post th woman come forward accus donald trump brag billi bush bu tape stori sound familiar former miss finland ninni laaksonen tell tabloid iltasanomat republican nomine grab butt trump three beauti pageant contest go air late show david letterman show photograph outsid build laaksonen quot haaretz trump stand next suddenli squeez butt realli grab butt think anybodi saw flinch thought happen verac claim note laaksonen seek tabloid iltasanomat second larg paper countri accord wikipedia reach finnish woman encount trump discov stori case alreadi grimac former miss finland add somebodi tell trump like look like melania young trump caught tape say woman expir age melania trump would expir alleg grope incid take place new york magazin exhaust list alleg make woman donald trump donald trump tape brag grab woman pssi stretch hear inde woman also will come forward face wrath trump machin alarm donald trump best best republican bench mean suppos work right group top contend pick possibl nomin best get republican tri say locker room talk senat barack obama bu tape like trump let alon woman accus brag offic right contend right'\n",
            " ...\n",
            " 'forget encyclopaedia get pokiespedia home win forget encyclopaedia get pokiespedia forget encyclopaedia get pokiespedia partridg sydney australia hell poki well peopl antipod like call slot ever australia wander water hole somewher outback citi come across pokmon chanc fun begin feed money machin plaster australian nectar skull wake next day rag headach bucket cash unlucki noth nt land oz play poki anywher play onlin kind game come across play game differ type kind good old classic classic classic slot great still find one paylin although classic game find day may limit one line multipl paylin multipl paylin game place find game paylin activ paylin coin bet opportun creat win combin hit payload featur featur poki come special symbol increas chanc featur includ wild symbol scatter symbol multipli jackpot symbol rack load symbol certain combin get seriou wonga bonu bonu slot real find like game within game may chug along hit bonu win cash continu game win even cash like bonu poki progress progress slot talk socialist fact popular categori onlin casino game name suggest progress game jackpot grow progress index activ number factor get payout machin real bonu jackpot huge monstrou enorm uniqu favourit film charact film theme probabl poki poki brand specif film brand uniqu featur game play best way find play rule game first thing first specif rule play free onlin play fun go wwwpokiespediacom get feel game like keep play simpl way make good money choos size bet press button away roll outlin mani differ type poki prefer one think best play onlin also discreet way play poki could pyjama lie deck chair beach fantast way deal chanc could even pretend talk wife whilst fun poki get angri listen nod head agreement well still get join noth like feel realli aliv thrill play poki ye game chanc skill liter play anywher go'\n",
            " 'u elect race huma abedin connect minut video novemb amaz australian upload video youtub let world know woman next presid righthand woman jihadist muslim desper introduc sharia see end western civilis describ life connect danger peopl yet cia fbi get pay billion everi year nt seem find thing tell well starter tell fbi cia nsa good know mani acronym supposedli defend america stupid incompet contrari quit opposit tell secur servic work tandem wish destroy western civil lie day one everyth somewhat amaz one think averag american steal bar chocol store bang life prison third offenc yet peopl like clinton abedin respons death hundr thousand barbar murder foreign leader forget work peopl doubt plan subjug west wahab simpli ignor pay taxpay allow happen peopl go wake govern alway corrupt noth den psychopath prostitut work high bidder way western peopl ever rid demon cours jewish master smash system complet live anarchi jew abl build complex secur establish protect head whole damn lot quit frankli use anyon wast oxygen breath'\n",
            " 'shame obama legaci white man beat vicious vote trump home world shame obama legaci white man beat vicious vote trump shame obama legaci white man beat vicious vote trump doctor zee california usa racial tension increas tenfold sinc obama elect thing get bad trump obama bring america hatr viciou race divis unpunish violenc commit black see unbridl exampl obama legaci work elderli white man set upon pack african american u medium term young peopl simpli man vote donald trump blow blow administ man head cowardli creatur low anim intent brutal beat']\n",
            "['dark agenda behind globalism open border altmarket brandon smith people unfamiliar liberty movement stumble onto undeniable fact conspiracy globalism tend look easy answer understand exist people today condition perceive event misinterpret standpoint occam razor wrongly assume simple explanation probably right one fact occam razor state instead summarize state simple explanation give evidence hand probably right explanation well know document decade push globalism deliberate focus effort part select elite international financier central banker political leader numerous member exclusive think tank often openly admit goal total globalization publication perhaps believe uneducated commoner would never read anyway carroll quigley mentor bill clinton member council foreign relation often quote open admission general scheme power financial capitalism farreaching aim nothing less create world system financial control private hand able dominate political system country economy world whole system control feudalist fashion central bank world act concert secret agreement arrive frequent meeting conference apex system bank international settlement basel switzerland private bank own controlled world central bank private corporation central bank seek dominate government ability control treasury loan manipulate foreign exchange influence level economic activity country influence cooperative politician subsequent economic reward business world carroll quigley tragedy hope people behind effort enforce globalism tie together particular ideology perhaps even cultlike religion envision world order describe plato republic believe choose either fate destiny genetics rule philosopher king rest u believe wise capable humanity offer evolutionary mean create chaos order thin air mold society mentality evident system build exploit example central banking general nothing mechanism drive nation debt currency devaluation ultimately enslavement widespread economic extortion end game central bank believe trigger historic financial crisis use elites leverage promote complete global centralization viable solution process destabilize economy society direct head various central bank instead direct even central global institution like international monetary fund bank international settlement outline reveal mainstream article like rule world money publish harper magazine also find word globalists campaign new world order mean voluntary struggle seem drift definitely towards world social democracy may still great delay disappointment becomes efficient beneficent world system countless people hate new world order die protest attempt evaluate promise bear mind distress generation malcontent many quite gallant gracefullooking people hg welles fabian socialist author new world order short house world order build bottom rather f rom top look like great boom buzz confusion use william james famous description reality end run around national sovereignty erode piece piece accomplish much oldfashioned frontal assault richard gardner member trilateral commission publish april issue foreign affair new world order happen without u participation single significant component yes new world order force united state change perception henry kissinger world action council april could quote globalists day long think get general idea people see globalism natural offshoot free market inevitable outcome economic progress reality simple explanation give evidence hand globalism outright war wag ideal sovereign people nation guerrilla war fourth generation warfare wag small group elites rest u significant element war concern nature border border nation state even towns village line map invisible barrier dirt elites mainstream medium would like u believe instead border apply correctly represent principle least supposed function human being natural community builder constantly seek others likemind likepurpose understand subconsciously group individual work together often always accomplish say human being also natural tendency value individual freedom right voluntary association like force associate people group hold similar value culture erect border frankly people right vet wish join participate endeavor people also right discriminate anyone share core value word right refuse association group ideology destructive interestingly globalists mouthpiece argue refuse associate might undermine value violate right see works globalists exploit word isolationism shame sovereignty champion eye public shame isolation principle freedom speech expression right self defense line also nothing wrong isolate prosperous economic model unsuccessful economic model force decentralized free market economy adopt feudal administration central bank government eventually destroy model force free market economy fiscal interdependencey socialist economy also likely undermine culture import million people differ value fee nation socialism thrust upon recipe collapse point value social structure mutually exclusive matter hard try certain culture never homogenize culture eliminate one culture make room borderless world globalists seek achieve great purpose behind open border policy globalization annihilate ideological competition humanity think option elitist religion ultimate end game globalists control government government nothing tool rather end game obtain total psychological influence eventually consent mass variety choice remove environment order globalism work nice way say many people die many principle erase public consciousness elites assert concept single world culture pinnacle principle mankind longer need border principle superior long border concept continue exist always chance separate different ideal rise compete globalist philosophy unacceptable elite lead subtle propaganda meme culture value sovereignty globalism somehow seething cauldron potential evil today rise tide antiglobalist movement argument mainstream populist conservative low uneducated class dangerous element set topple peace prosperity afford globalist hand word treat like child scrawl finger paint across finely craft mona lisa carroll quigley promote predicts propaganda decade advance discus need work within system change instead fight example talk low middle class backbone fascism future think may happen party member nazi party germany consistently low middle class think rightwing movement country pretty generally group carroll quigley dissent need problem people refuse confront fruit globalization observe far globalists free reign world government least century long consequence influence two world war great depression great recession still ongoing many regional conflict genocide count systematic oppression free agent entrepreneur inventor idea point suffer social financial stagnation globalists long power yet existence border blame storm crisis endure past hundred year liberty champion call deplorable populist fascist globalists dodge blame like slimy slither eel best card globalists sleeve reason continue argue plan allow conservative movement gain measure political power next year pull plug international fiscal life support blame u result tragedy modicum evidence support notion globalization interdependencey centralization actually work one need examine economic immigration nightmare present eu understand globalists argue world actually centralize enough right claim need globalization less solve world ailment meantime principle sovereignty historically demonize concept separate culture build separate belief psychologically equate evil future generation otherwise globalists never able successfully establish global system without border imagine moment era far away principle sovereignty consider abhorrent racist violent poisonous individual would sham even punish collective entertaining notion imagine world sovereignty conservatism hold next generation new original sin dangerous idea almost bring extinction man mental prison globalists want take u break free would require complete reversal way participate society mean need rebellion voluntary association push decentralization instead globalization thousand upon thousand voluntary group focus localization self reliance true production must act build system base redundancy instead fragile interdependencey need go back age many border less border every individual free participate whatever social group endeavor believe best well free defend people seek sabotage voluntary tribal society devoid force association course effort would require unimaginable sacrifice fight would probably last generation suggest otherwise would lie possibly convince anyone potential future base hypothetical model worth sacrifice idea whether point globalist dominate world live today clearly doom argue come next removed head guillotine;0'\n",
            " 'america poor still get shaft sami jamil jadallah november day ugly distasteful presidential election u history see candidate preside u president election grope email make u laugh stock world saw campaign little anything priority really matter american people candidate talk bring back job industrial manufacturing job know well liar never bring back kind industrial manufacturing job give middleclass american sense dignity security two candidate best cater rich powerful people money billionaires always shape nation agenda politics billion pour year national election different previous nationalpresidential election close billion inject invested election return donor never voter america poor black hispanic white well neglect long time get shaft everywhere everyone especially congress empower corporate america screw poor every turn every way congress legislation give incentive corporation locate manufacture job overseas allow bank financial institution especially credit card company give shaft poor future hold next generation surprising great country stagger number poor million population prospect americans part category least one year age year poor unemployed living system million poor work hard hard one two job make end meet hispanic black likely among category asian white woman likely men fall category work poor white male less high school education spending least one year category hard think country plentiful million people earn less year million deep poverty earn less year presidential candidate cater rich powerful seek support candidate talk poorpaying job american available job pay less annually talk bank financial institution loot ten million american pension fund financial crisis fact congress allow corporation restructure benefit wall street investor cheat worker pension health care course republicans talk eliminate entitlement poor forget neglect kind entitlement u military get kind entitlement corporation rich executive get part deal work member congress entitlement triple hardworking poor american get true family get cash assistance black hispanic lead believe thus cause outcry end welfare system note entitlement go elderly poor retire worker social security medicare amount billion let u look system sponsor nurtured congress screw american every day let u take example interest rate charge credit card case poor one get behind credit card payment interest rate charge almost twice much average rate moreover one get behind one payment one credit card credit card company hike rate thus poor pay high price cost highinterest rate charge likelihood default one payment credit rating change force poor pay high interest car loan mortgage loan truly rip fact company like payday loan car title company consider bank receive fund less charge borrower even unconscionable poor also get shafts health care company especially supplemental insurance fact poor likely suffer certain chronic disease obesity high blood pressure diabetes rate much high average add way school fund since national tax plan fund education fund come property tax poor neighborhood income support school system police fire department much less affluent community child get less quality education likely among poor live government subsidy likely neighborhood high crime rate higher percentage incarceration government save support education pay double cost crime incarceration simply make sense society leave two incident personally experience supplemental health insurance mean u age must purchase supplemental health insurance complement medicare purchase policy unitedhealth aarp pay month almost year discover ceo unitedhealth earn year salary make simple calculation shock realize pay year monthly premium pay salary one year course drop unitedhealth exploitation disadvantage community private company offer auto dealer smart loyalty card dealer add card special package oil change discount maintenance extend warranty consumer benefit able keep track vehicle service maintenence record smart chip card patent thus save car owner get rip duplicate unwarranted repair many dealer especially poor neighborhood charge poor interest rate exceed car loan force poor guy buy additional warranty charge thousand dollar service dealer know customer would never need drop dealer network know maybe one day congress presidential candidate represent rich poor middle class offer solution get people work welfare subsidy american people lazy need opportunity trump clinton bring opportunity america problem presidency congress change must take place;0'\n",
            " 'number accuser grow former miss finland accuses trump sexual assault sarah jones thu oct th pm th woman come forward accuse donald trump brag billy bush bus tape story sound familiar former miss finland ninni laaksonen tell tabloid iltasanomat trump grab butt share twitter print post th woman come forward accuse donald trump brag billy bush bus tape story sound familiar former miss finland ninni laaksonen tell tabloid iltasanomat republican nominee grab butt trump three beauty pageant contest go air late show david letterman show photograph outside building laaksonen quote haaretz trump stand next suddenly squeeze butt really grab butt think anybody saw flinched thought happen veracity claim note laaksonen seek tabloid iltasanomat second large paper country accord wikipedia reach finnish woman encounter trump discover story case already grimace former miss finland add somebody tell trump like look like melania young trump caught tape say woman expire age melania trump would expire alleged groping incident take place new york magazine exhaustive list allegation make woman donald trump donald trump tape brag grab woman pssy stretch hear indeed woman also willing come forward face wrath trump machine alarm donald trump best best republican bench mean suppose work right group top contender pick possible nomination best get republicans try say locker room talk senator barack obama bus tape like trump let alone woman accuse bragged office right contender rightfully;0'\n",
            " ...\n",
            " 'forget encyclopaedia get pokiespedia home win forget encyclopaedia get pokiespedia forget encyclopaedia get pokiespedia partridge sydney australia hell poky well people antipode like call slot ever australia wandered watering hole somewhere outback city come across pokmon chance fun begin feed money machine plaster australian nectar skull wake next day rag headache bucket cash unlucky nothing nt land oz play poky anywhere play online kind game come across play game different type kind good old classic classic classic slot great still find one payline although classic game find day may limit one line multiple payline multiple payline game place find game paylines activate paylines coin bet opportunity create win combination hit payload feature feature poky come special symbol increase chance feature include wild symbol scatter symbols multiplier jackpot symbol rack load symbol certain combination get serious wonga bonus bonus slot real find like game within game may chug along hit bonus win cash continue game win even cash like bonus pokie progressive progressive slot talk socialist fact popular category online casino game name suggest progress game jackpot grow progression index activate number factor get payout machine real bonus jackpot huge monstrous enormous unique favourite film character film theme probably pokie poky brand specific film brand unique feature game play best way find play rule game first thing first specific rule play free online play fun go wwwpokiespediacom get feel game like keep play simple way make good money choose size bet press button away roll outlined many different type poky preference one think best play online also discreet way play poky could pyjamas lie deck chair beach fantastic way deal chance could even pretend talk wife whilst fun poky get angry listen nod head agreement well still get join nothing like feel really alive thrill play poky yes game chance skill literally play anywhere go;0'\n",
            " 'u election race huma abedin connection minute video november amaze australian upload video youtube let world know woman next president righthand woman jihadist muslim desperate introduce sharia see end western civilisation describe life connection dangerous people yet cia fbi get pay billion every year nt seem find thing tell well starter tell fbi cia nsa goodness know many acronym supposedly defend america stupid incompetent contrary quite opposite tell security service work tandem wish destroy western civilization lie day one everything somewhat amaze one thinks average american steal bar chocolate store bang life prison third offence yet people like clinton abedin responsible death hundred thousand barbaric murder foreign leader forget work people doubt plan subjugation west wahabism simply ignore pay taxpayer allow happen people go wake government always corrupt nothing den psychopathic prostitute work high bidder way western people ever rid demon course jewish master smash system completely live anarchy jew able build complex security establishment protect head whole damn lot quite frankly use anyone waste oxygen breathe;0'\n",
            " 'shameful obama legacy white man beat viciously vote trump home world shameful obama legacy white man beat viciously vote trump shameful obama legacy white man beat viciously vote trump doctor zee california usa racial tension increase tenfold since obama election thing get bad trump obama bring america hatred vicious race division unpunished violence committed black see unbridled example obama legacy work elderly white man set upon pack african american u medium term young people simply man vote donald trump blow blow administer man head cowardly creatures low animal intent brutally beat;0']\n"
          ]
        }
      ]
    },
    {
      "cell_type": "code",
      "source": [
        "#Converting the textual data to numrerical data\n",
        "vectorizer = TfidfVectorizer()\n",
        "vectorizer.fit(X)\n",
        "\n",
        "X = vectorizer.transform(X)"
      ],
      "metadata": {
        "id": "uRsfjbK-_vRF"
      },
      "execution_count": null,
      "outputs": []
    },
    {
      "cell_type": "code",
      "source": [
        "print(X)"
      ],
      "metadata": {
        "colab": {
          "base_uri": "https://localhost:8080/"
        },
        "id": "nHCuPa6m_6UI",
        "outputId": "35ba3418-c76c-4914-da55-bd5961bd55ad"
      },
      "execution_count": null,
      "outputs": [
        {
          "output_type": "stream",
          "name": "stdout",
          "text": [
            "  (0, 226)\t0.032306192480828624\n",
            "  (0, 234)\t0.015918788439067556\n",
            "  (0, 248)\t0.025630116885556126\n",
            "  (0, 482)\t0.038908705552746774\n",
            "  (0, 547)\t0.016518029818277893\n",
            "  (0, 623)\t0.012195135155913738\n",
            "  (0, 631)\t0.022941044249407194\n",
            "  (0, 640)\t0.012292213049043273\n",
            "  (0, 652)\t0.013138891819509065\n",
            "  (0, 682)\t0.023953485377687676\n",
            "  (0, 866)\t0.01155663641947367\n",
            "  (0, 875)\t0.02242123772457062\n",
            "  (0, 877)\t0.015930146974593357\n",
            "  (0, 904)\t0.01863798238887868\n",
            "  (0, 954)\t0.015494129259902246\n",
            "  (0, 1058)\t0.016763709022976223\n",
            "  (0, 1074)\t0.017364213697447693\n",
            "  (0, 1216)\t0.014672325822467644\n",
            "  (0, 1232)\t0.01659690939642273\n",
            "  (0, 1246)\t0.016297910452905746\n",
            "  (0, 1346)\t0.016025978524081413\n",
            "  (0, 1486)\t0.028339118499888214\n",
            "  (0, 1489)\t0.01578476076741514\n",
            "  (0, 1509)\t0.013948194082209622\n",
            "  (0, 2417)\t0.011177505965428792\n",
            "  :\t:\n",
            "  (16645, 69132)\t0.06090231710165394\n",
            "  (16645, 69169)\t0.07945748170181238\n",
            "  (16645, 75700)\t0.03474633212403185\n",
            "  (16645, 76469)\t0.046932086272056334\n",
            "  (16645, 76843)\t0.2685053000704022\n",
            "  (16645, 78166)\t0.05993808826549236\n",
            "  (16645, 78198)\t0.03995540130354119\n",
            "  (16645, 84859)\t0.1412916739331647\n",
            "  (16645, 84902)\t0.07819150923613272\n",
            "  (16645, 84964)\t0.05571257079280826\n",
            "  (16645, 85717)\t0.041270306138969544\n",
            "  (16645, 87893)\t0.17834466439115124\n",
            "  (16645, 89234)\t0.13883359755033892\n",
            "  (16645, 90092)\t0.14043532285711208\n",
            "  (16645, 90444)\t0.06789403893122016\n",
            "  (16645, 90589)\t0.08155341732093759\n",
            "  (16645, 91748)\t0.1035690210912969\n",
            "  (16645, 91749)\t0.37822195766992117\n",
            "  (16645, 91991)\t0.06536090547672624\n",
            "  (16645, 92401)\t0.1946235186878574\n",
            "  (16645, 94117)\t0.18167291428437762\n",
            "  (16645, 95123)\t0.035140004398306945\n",
            "  (16645, 95179)\t0.03901046969092589\n",
            "  (16645, 96756)\t0.055446021651110566\n",
            "  (16645, 97178)\t0.15688892652599126\n"
          ]
        }
      ]
    },
    {
      "cell_type": "markdown",
      "source": [
        "Splitting the dataset to training and test data"
      ],
      "metadata": {
        "id": "s-uRmc5-_-Cm"
      }
    },
    {
      "cell_type": "code",
      "source": [
        "X_train, X_test, Y_train, Y_test = train_test_split(X, Y, test_size=0.2, shuffle=True, random_state=1)"
      ],
      "metadata": {
        "id": "ICkpaMkkACF8"
      },
      "execution_count": null,
      "outputs": []
    },
    {
      "cell_type": "markdown",
      "source": [
        "Training a Model : Logistic Regression"
      ],
      "metadata": {
        "id": "4OcWfdpCASJe"
      }
    },
    {
      "cell_type": "code",
      "source": [
        "model = LogisticRegression()"
      ],
      "metadata": {
        "id": "q6yHp4xbAQfk"
      },
      "execution_count": null,
      "outputs": []
    },
    {
      "cell_type": "code",
      "source": [
        "model.fit(X_train, Y_train)"
      ],
      "metadata": {
        "id": "KVtuHHj4AbaK"
      },
      "execution_count": null,
      "outputs": []
    },
    {
      "cell_type": "markdown",
      "source": [
        "Evaluation"
      ],
      "metadata": {
        "id": "f0lsccBiAgyR"
      }
    },
    {
      "cell_type": "code",
      "source": [
        "#Accuracy score on training data\n",
        "X_train_prediction = model.predict(X_train)\n",
        "training_data_accuracy = accuracy_score(X_train_prediction, Y_train)"
      ],
      "metadata": {
        "id": "-iHnhtC-Ah0C"
      },
      "execution_count": null,
      "outputs": []
    },
    {
      "cell_type": "code",
      "source": [
        "#Accuracy score on test data\n",
        "X_test_prediction = model.predict(X_test)\n",
        "test_data_accuracy = accuracy_score(X_test_prediction, Y_test)"
      ],
      "metadata": {
        "id": "w73j8_l5AokC"
      },
      "execution_count": null,
      "outputs": []
    },
    {
      "cell_type": "code",
      "source": [
        "print('Accuracy score on training data : ', training_data_accuracy)\n",
        "print('Accuracy score on test data : ', test_data_accuracy)"
      ],
      "metadata": {
        "id": "K9eC5DaoAtuG"
      },
      "execution_count": null,
      "outputs": []
    },
    {
      "cell_type": "markdown",
      "source": [
        "Making a Predictive System"
      ],
      "metadata": {
        "id": "WJSFb3AHA2RU"
      }
    },
    {
      "cell_type": "code",
      "source": [
        "X_new = X_test[0]\n",
        "prediction = model.predict(X_new)\n",
        "print(prediction)\n",
        "\n",
        "if (prediction[0] == 0):\n",
        "  print(\"The news is real\")\n",
        "else:\n",
        "  print(\"The news is fake\")"
      ],
      "metadata": {
        "id": "PhwCEeJnA116"
      },
      "execution_count": null,
      "outputs": []
    },
    {
      "cell_type": "code",
      "source": [
        "print(Y_test[3])"
      ],
      "metadata": {
        "id": "3LcoE08ABOGi"
      },
      "execution_count": null,
      "outputs": []
    }
  ]
}